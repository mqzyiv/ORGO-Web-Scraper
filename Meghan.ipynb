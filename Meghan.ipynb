{
  "cells": [
    {
      "cell_type": "markdown",
      "metadata": {
        "id": "XRHaX0XkWFzC"
      },
      "source": [
        "Web scraping to help my friend get her orgo lecture."
      ]
    },
    {
      "cell_type": "code",
      "execution_count": 2,
      "metadata": {
        "id": "bQjjpVsSUxBK"
      },
      "outputs": [],
      "source": [
        "import urllib.request"
      ]
    },
    {
      "cell_type": "code",
      "execution_count": 3,
      "metadata": {
        "id": "34vL5hIUXwNi"
      },
      "outputs": [],
      "source": [
        "from bs4 import BeautifulSoup"
      ]
    },
    {
      "cell_type": "code",
      "execution_count": 4,
      "metadata": {
        "id": "P_JqhJcrcbxY"
      },
      "outputs": [],
      "source": [
        "import time"
      ]
    },
    {
      "cell_type": "code",
      "execution_count": null,
      "metadata": {
        "colab": {
          "base_uri": "https://localhost:8080/",
          "height": 275
        },
        "id": "gOTX08DGhFj4",
        "outputId": "be85077a-ac2f-4d12-a943-2ea10b541204"
      },
      "outputs": [],
      "source": [
        "from google.colab import userdata\n",
        "token = userdata.get('DISCORD_TOKEN')"
      ]
    },
    {
      "cell_type": "code",
      "execution_count": null,
      "metadata": {
        "id": "EKxBg0MNhRtf"
      },
      "outputs": [],
      "source": [
        "!pip install -U discord.py\n",
        "import discord"
      ]
    },
    {
      "cell_type": "code",
      "execution_count": null,
      "metadata": {
        "id": "v7IINarXoBcO"
      },
      "outputs": [],
      "source": [
        "!pip install nest_asyncio"
      ]
    },
    {
      "cell_type": "code",
      "execution_count": null,
      "metadata": {
        "id": "DUfOitYuvTpz"
      },
      "outputs": [],
      "source": [
        "import asyncio"
      ]
    },
    {
      "cell_type": "code",
      "execution_count": null,
      "metadata": {
        "id": "3MovF77UoHv4"
      },
      "outputs": [],
      "source": [
        "import nest_asyncio\n",
        "nest_asyncio.apply()"
      ]
    },
    {
      "cell_type": "code",
      "execution_count": null,
      "metadata": {
        "id": "-_vBmgkmb6-G"
      },
      "outputs": [],
      "source": [
        "urltes=userdata.get('URL')"
      ]
    },
    {
      "cell_type": "code",
      "execution_count": null,
      "metadata": {
        "id": "oOTBRR35WEcV"
      },
      "outputs": [],
      "source": [
        "request = urllib.request.urlopen(urltes)"
      ]
    },
    {
      "cell_type": "code",
      "execution_count": null,
      "metadata": {
        "id": "61H-VlkCXVzy"
      },
      "outputs": [],
      "source": [
        "result = request.read()"
      ]
    },
    {
      "cell_type": "code",
      "execution_count": null,
      "metadata": {
        "id": "O19I--_GZiDW"
      },
      "outputs": [],
      "source": [
        "print(result)"
      ]
    },
    {
      "cell_type": "code",
      "execution_count": null,
      "metadata": {
        "id": "sJevminsYkM3"
      },
      "outputs": [],
      "source": [
        "bs = BeautifulSoup(result,'html.parser')"
      ]
    },
    {
      "cell_type": "code",
      "execution_count": null,
      "metadata": {
        "id": "eAmMiwmgYxbd"
      },
      "outputs": [],
      "source": [
        "print(bs.find(\"div\",class_=\"no-courses-message\"))"
      ]
    },
    {
      "cell_type": "code",
      "execution_count": null,
      "metadata": {
        "id": "pQUhzK9UpbsZ"
      },
      "outputs": [],
      "source": [
        "GUILD='exclusive orgs server'"
      ]
    },
    {
      "cell_type": "code",
      "execution_count": null,
      "metadata": {
        "id": "OAsc-Jc7ilW-"
      },
      "outputs": [],
      "source": [
        "intent = discord.Intents(value=199680)\n",
        "intent.guilds = True"
      ]
    },
    {
      "cell_type": "code",
      "execution_count": null,
      "metadata": {
        "id": "2M-q4yXfhnZk"
      },
      "outputs": [],
      "source": [
        "ct = discord.Client(intents = intent)\n"
      ]
    },
    {
      "cell_type": "code",
      "execution_count": null,
      "metadata": {
        "id": "K8Y2NwS4khll"
      },
      "outputs": [],
      "source": [
        "@ct.event\n",
        "async def on_ready():\n",
        "    print(f'{ct.user} has connected to Discord!')\n",
        "    allowed_mentions = discord.AllowedMentions(everyone = True)\n",
        "    channel = ct.get_channel(userdata.get('CHANNEL'))\n",
        "    await channel.send('ready @everyone',allowed_mentions = allowed_mentions)\n",
        "    while(True):\n",
        "      result = urllib.request.urlopen(urltes).read()\n",
        "      print(result)\n",
        "      bs = BeautifulSoup(result,'html.parser')\n",
        "      if(bs.find(\"div\",class_=\"no-courses-message\")==None):\n",
        "\n",
        "        await channel.send(\"Davis Section Open @everyone\",allowed_mentions = allowed_mentions)\n",
        "      await asyncio.sleep(1800)"
      ]
    },
    {
      "cell_type": "code",
      "execution_count": null,
      "metadata": {
        "id": "7g2ZBWtbkuEy"
      },
      "outputs": [],
      "source": [
        "ct.run(token)"
      ]
    }
  ],
  "metadata": {
    "colab": {
      "provenance": []
    },
    "kernelspec": {
      "display_name": "Python 3",
      "name": "python3"
    },
    "language_info": {
      "name": "python"
    }
  },
  "nbformat": 4,
  "nbformat_minor": 0
}
